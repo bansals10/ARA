{
 "cells": [
  {
   "cell_type": "code",
   "execution_count": 6,
   "metadata": {},
   "outputs": [
    {
     "name": "stdout",
     "output_type": "stream",
     "text": [
      "Requirement already satisfied: pandas in /Users/shriyabansal/.pyenv/versions/3.8.6/envs/jupyter3/lib/python3.8/site-packages (1.1.4)\n",
      "Requirement already satisfied: numpy>=1.15.4 in /Users/shriyabansal/.pyenv/versions/3.8.6/envs/jupyter3/lib/python3.8/site-packages (from pandas) (1.19.2)\n",
      "Requirement already satisfied: pytz>=2017.2 in /Users/shriyabansal/.pyenv/versions/3.8.6/envs/jupyter3/lib/python3.8/site-packages (from pandas) (2020.4)\n",
      "Requirement already satisfied: python-dateutil>=2.7.3 in /Users/shriyabansal/.pyenv/versions/3.8.6/envs/jupyter3/lib/python3.8/site-packages (from pandas) (2.8.1)\n",
      "Requirement already satisfied: six>=1.5 in /Users/shriyabansal/.pyenv/versions/3.8.6/envs/jupyter3/lib/python3.8/site-packages (from python-dateutil>=2.7.3->pandas) (1.15.0)\n",
      "\u001b[33mWARNING: You are using pip version 20.2.3; however, version 20.2.4 is available.\n",
      "You should consider upgrading via the '/Users/shriyabansal/.pyenv/versions/jupyter3/bin/python -m pip install --upgrade pip' command.\u001b[0m\n",
      "Collecting requests\n",
      "  Using cached requests-2.25.0-py2.py3-none-any.whl (61 kB)\n",
      "Collecting urllib3<1.27,>=1.21.1\n",
      "  Using cached urllib3-1.26.1-py2.py3-none-any.whl (136 kB)\n",
      "Requirement already satisfied: certifi>=2017.4.17 in /Users/shriyabansal/.pyenv/versions/3.8.6/envs/jupyter3/lib/python3.8/site-packages (from requests) (2020.6.20)\n",
      "Collecting idna<3,>=2.5\n",
      "  Using cached idna-2.10-py2.py3-none-any.whl (58 kB)\n",
      "Collecting chardet<4,>=3.0.2\n",
      "  Using cached chardet-3.0.4-py2.py3-none-any.whl (133 kB)\n",
      "Installing collected packages: urllib3, idna, chardet, requests\n",
      "Successfully installed chardet-3.0.4 idna-2.10 requests-2.25.0 urllib3-1.26.1\n",
      "\u001b[33mWARNING: You are using pip version 20.2.3; however, version 20.2.4 is available.\n",
      "You should consider upgrading via the '/Users/shriyabansal/.pyenv/versions/jupyter3/bin/python -m pip install --upgrade pip' command.\u001b[0m\n"
     ]
    }
   ],
   "source": [
    "import sys\n",
    "\n",
    "!{sys.executable} -m pip install pandas\n",
    "!{sys.executable} -m pip install requests\n",
    "import pandas as pd"
   ]
  },
  {
   "cell_type": "code",
   "execution_count": 15,
   "metadata": {},
   "outputs": [],
   "source": [
    "from dateutil.relativedelta import relativedelta\n",
    "import requests\n",
    "import json\n",
    "import time\n",
    "import dateutil\n",
    "import urllib3\n",
    "urllib3.disable_warnings(urllib3.exceptions.InsecureRequestWarning)"
   ]
  },
  {
   "cell_type": "code",
   "execution_count": 17,
   "metadata": {},
   "outputs": [
    {
     "name": "stdout",
     "output_type": "stream",
     "text": [
      "Start date: 2019-11-12\n",
      "End date: 2020-11-12\n"
     ]
    }
   ],
   "source": [
    "import datetime\n",
    "end = datetime.date.today() \n",
    "start = end - relativedelta(years=1)\n",
    "print('Start date: ' + str(start))\n",
    "print('End date: ' + str(end))"
   ]
  },
  {
   "cell_type": "code",
   "execution_count": 18,
   "metadata": {},
   "outputs": [
    {
     "data": {
      "text/plain": [
       "[['2019', '12'],\n",
       " ['2020', '1'],\n",
       " ['2020', '2'],\n",
       " ['2020', '3'],\n",
       " ['2020', '4'],\n",
       " ['2020', '5'],\n",
       " ['2020', '6'],\n",
       " ['2020', '7'],\n",
       " ['2020', '8'],\n",
       " ['2020', '9'],\n",
       " ['2020', '10'],\n",
       " ['2020', '11']]"
      ]
     },
     "execution_count": 18,
     "metadata": {},
     "output_type": "execute_result"
    }
   ],
   "source": [
    "months_in_range = [x.split(' ') for x in pd.date_range(start, end, freq='MS').strftime(\"%Y %-m\").tolist()]\n",
    "months_in_range"
   ]
  },
  {
   "cell_type": "code",
   "execution_count": 19,
   "metadata": {},
   "outputs": [],
   "source": [
    "YOUR_API_KEY = 'qYusUdA1cSXCeKXXGVmiP7fd1aHg38EI'"
   ]
  },
  {
   "cell_type": "code",
   "execution_count": 20,
   "metadata": {},
   "outputs": [],
   "source": [
    "def send_request(date):\n",
    "    '''Sends a request to the NYT Archive API for given date.'''\n",
    "    base_url = 'https://api.nytimes.com/svc/archive/v1/'\n",
    "    url = base_url + '/' + date[0] + '/' + date[1] + '.json?api-key=' + YOUR_API_KEY\n",
    "    try:\n",
    "        response = requests.get(url, verify=False).json()\n",
    "    except Exception:\n",
    "        return None\n",
    "    time.sleep(6)\n",
    "    return response\n",
    "\n",
    "\n",
    "def is_valid(article, date):\n",
    "    '''An article is only worth checking if it is in range, and has a headline.'''\n",
    "    is_in_range = date > start and date < end\n",
    "    has_headline = type(article['headline']) == dict and 'main' in article['headline'].keys()\n",
    "    return is_in_range and has_headline\n",
    "\n",
    "\n",
    "def parse_response(response):\n",
    "    '''Parses and returns response as pandas data frame.'''\n",
    "    data = {'headline': [],  \n",
    "        'date': [], \n",
    "        'doc_type': [],\n",
    "        'material_type': [],\n",
    "        'section': [],\n",
    "        'keywords': []}\n",
    "    \n",
    "    articles = response['response']['docs'] \n",
    "    for article in articles: # For each article, make sure it falls within our date range\n",
    "        date = dateutil.parser.parse(article['pub_date']).date()\n",
    "        if is_valid(article, date):\n",
    "            data['date'].append(date)\n",
    "            data['headline'].append(article['headline']['main']) \n",
    "            if 'section' in article:\n",
    "                data['section'].append(article['section_name'])\n",
    "            else:\n",
    "                data['section'].append(None)\n",
    "            data['doc_type'].append(article['document_type'])\n",
    "            if 'type_of_material' in article: \n",
    "                data['material_type'].append(article['type_of_material'])\n",
    "            else:\n",
    "                data['material_type'].append(None)\n",
    "            keywords = [keyword['value'] for keyword in article['keywords'] if keyword['name'] == 'subject']\n",
    "            data['keywords'].append(keywords)\n",
    "    return pd.DataFrame(data) \n",
    "\n",
    "\n",
    "def get_data(dates):\n",
    "    '''Sends and parses request/response to/from NYT Archive API for given dates.'''\n",
    "    total = 0\n",
    "    print('Date range: ' + str(dates[0]) + ' to ' + str(dates[-1]))\n",
    "    if not os.path.exists('headlines'):\n",
    "        os.mkdir('headlines')\n",
    "    for date in dates:\n",
    "        print('Working on ' + str(date) + '...')\n",
    "        csv_path = 'headlines/' + date[0] + '-' + date[1] + '.csv'\n",
    "        if not os.path.exists(csv_path): # If we don't already have this month \n",
    "            response = send_request(date)\n",
    "            if response is not None:\n",
    "                df = parse_response(response)\n",
    "                total += len(df)\n",
    "                df.to_csv(csv_path, index=False)\n",
    "                print('Saving ' + csv_path + '...')\n",
    "    print('Number of articles collected: ' + str(total))"
   ]
  },
  {
   "cell_type": "code",
   "execution_count": 21,
   "metadata": {},
   "outputs": [
    {
     "name": "stdout",
     "output_type": "stream",
     "text": [
      "Date range: ['2019', '12'] to ['2020', '11']\n",
      "Working on ['2019', '12']...\n",
      "Saving headlines/2019-12.csv...\n",
      "Working on ['2020', '1']...\n",
      "Saving headlines/2020-1.csv...\n",
      "Working on ['2020', '2']...\n",
      "Saving headlines/2020-2.csv...\n",
      "Working on ['2020', '3']...\n",
      "Saving headlines/2020-3.csv...\n",
      "Working on ['2020', '4']...\n",
      "Saving headlines/2020-4.csv...\n",
      "Working on ['2020', '5']...\n",
      "Saving headlines/2020-5.csv...\n",
      "Working on ['2020', '6']...\n",
      "Saving headlines/2020-6.csv...\n",
      "Working on ['2020', '7']...\n",
      "Saving headlines/2020-7.csv...\n",
      "Working on ['2020', '8']...\n",
      "Saving headlines/2020-8.csv...\n",
      "Working on ['2020', '9']...\n",
      "Saving headlines/2020-9.csv...\n",
      "Working on ['2020', '10']...\n",
      "Saving headlines/2020-10.csv...\n",
      "Working on ['2020', '11']...\n",
      "Saving headlines/2020-11.csv...\n",
      "Number of articles collected: 78679\n"
     ]
    }
   ],
   "source": [
    "get_data(months_in_range)"
   ]
  },
  {
   "cell_type": "code",
   "execution_count": 22,
   "metadata": {},
   "outputs": [
    {
     "ename": "NameError",
     "evalue": "name 'response' is not defined",
     "output_type": "error",
     "traceback": [
      "\u001b[0;31m---------------------------------------------------------------------------\u001b[0m",
      "\u001b[0;31mNameError\u001b[0m                                 Traceback (most recent call last)",
      "\u001b[0;32m<ipython-input-22-ab0153f39f33>\u001b[0m in \u001b[0;36m<module>\u001b[0;34m\u001b[0m\n\u001b[0;32m----> 1\u001b[0;31m \u001b[0mresponse\u001b[0m\u001b[0;34m\u001b[0m\u001b[0;34m\u001b[0m\u001b[0m\n\u001b[0m",
      "\u001b[0;31mNameError\u001b[0m: name 'response' is not defined"
     ]
    }
   ],
   "source": [
    "response"
   ]
  },
  {
   "cell_type": "code",
   "execution_count": null,
   "metadata": {},
   "outputs": [],
   "source": []
  }
 ],
 "metadata": {
  "kernelspec": {
   "display_name": "Python 3",
   "language": "python",
   "name": "python3"
  },
  "language_info": {
   "codemirror_mode": {
    "name": "ipython",
    "version": 3
   },
   "file_extension": ".py",
   "mimetype": "text/x-python",
   "name": "python",
   "nbconvert_exporter": "python",
   "pygments_lexer": "ipython3",
   "version": "3.8.6"
  }
 },
 "nbformat": 4,
 "nbformat_minor": 4
}
